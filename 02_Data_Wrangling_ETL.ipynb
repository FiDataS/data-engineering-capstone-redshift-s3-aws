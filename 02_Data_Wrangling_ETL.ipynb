{
 "cells": [
  {
   "cell_type": "markdown",
   "metadata": {
    "editable": true
   },
   "source": [
    "## Step 3: Definition of the Datamodel\n",
    "In total we now have 5 cleaned datasets. Whereas 1 is being treated as the facts datset and 4 as the dimensional data.\n",
    "\n",
    "The steps of cleaning have been executed and explained in the section above. The main focus was data cleaning and bringing all tables in a form that they could be used by the analytics team easily (for example naming conventions, common column names, same format (e.g. transposing of df_HDI), etc.). We could go further and limit the year ranges so all tables have the same year range. But it might be that the analytics team wants to see trends in each data set also, therefore we will keep the date ranges as is.\n",
    "\n",
    "Here is an overview to all datasets for this project in its final and clean format:\n",
    "\n",
    "#### df_temp:\n",
    "- df_temp is our facts dataset\n",
    "- dt displays the temperature per city (with country column and lat + long) on a monthly basis\n",
    "- Columns: \n",
    "         |-- dt: date (nullable = true)\n",
    "         |-- averagetemperature: double (nullable = true)\n",
    "         |-- averagetemperatureuncertainty: double (nullable = true)\n",
    "         |-- city: string (nullable = true)\n",
    "         |-- country: string (nullable = true)\n",
    "         |-- latitude: string (nullable = true)\n",
    "         |-- longitude: string (nullable = true)\n",
    "         |-- year: integer (nullable = true)\n",
    "         |-- month: integer (nullable = true)\n",
    "- The dataset starts on: 1743-11-01 and ends on: 2013-09-01\n",
    "- There are 441 different cities in the dataset and 88 different countries\n",
    "- The maximum average Temperature is: 39.156 and the minimum is: -34.932\n",
    "- The dataset has 1110436 rows.\n",
    "\n",
    "#### df_energy:\n",
    "- df_energy is one of the dimensional datasets\n",
    "- It includes data for each country and year telling how much energy they have consumed, of which sector (for example gas, oil, renewables, biofuel, etc.), how much they produced of that energy resurce, how big the population and their gdp is\n",
    "- The dataset has 122 columns - iso_code, country, year and then the production and consumption in each energy sector, as well as gdp and population:\n",
    "         |-- iso_code: string (nullable = true)\n",
    "         |-- country: string (nullable = true)\n",
    "         |-- year: integer (nullable = true)\n",
    "         |-- coal_prod_change_pct: double (nullable = true)\n",
    "         |-- coal_prod_change_twh: double (nullable = true)\n",
    "         |-- gas_prod_change_pct: double (nullable = true)\n",
    "         |-- gas_prod_change_twh: double (nullable = true)\n",
    "         |-- oil_prod_change_pct: double (nullable = true)\n",
    "         |-- oil_prod_change_twh: double (nullable = true)\n",
    "         |-- energy_cons_change_pct: double (nullable = true)\n",
    "         |-- energy_cons_change_twh: double (nullable = true)\n",
    "         |-- biofuel_share_elec: double (nullable = true)\n",
    "         |-- biofuel_elec_per_capita: double (nullable = true)\n",
    "         |-- biofuel_cons_change_pct: double (nullable = true)\n",
    "         |-- biofuel_share_energy: double (nullable = true)\n",
    "         |-- biofuel_cons_change_twh: double (nullable = true)\n",
    "         |-- biofuel_consumption: double (nullable = true)\n",
    "         |-- biofuel_cons_per_capita: double (nullable = true)\n",
    "         |-- carbon_intensity_elec: double (nullable = true)\n",
    "         |-- coal_share_elec: double (nullable = true)\n",
    "         |-- coal_cons_change_pct: double (nullable = true)\n",
    "         |-- coal_share_energy: double (nullable = true)\n",
    "         |-- coal_cons_change_twh: double (nullable = true)\n",
    "         |-- coal_consumption: double (nullable = true)\n",
    "         |-- coal_elec_per_capita: double (nullable = true)\n",
    "         |-- coal_cons_per_capita: double (nullable = true)\n",
    "         |-- coal_production: double (nullable = true)\n",
    "         |-- coal_prod_per_capita: double (nullable = true)\n",
    "         |-- electricity_generation: double (nullable = true)\n",
    "         |-- biofuel_electricity: double (nullable = true)\n",
    "         |-- coal_electricity: double (nullable = true)\n",
    "         |-- fossil_electricity: double (nullable = true)\n",
    "         |-- gas_electricity: double (nullable = true)\n",
    "         |-- hydro_electricity: double (nullable = true)\n",
    "         |-- nuclear_electricity: double (nullable = true)\n",
    "         |-- oil_electricity: double (nullable = true)\n",
    "         |-- other_renewable_electricity: double (nullable = true)\n",
    "         |-- other_renewable_exc_biofuel_electricity: double (nullable = true)\n",
    "         |-- renewables_electricity: double (nullable = true)\n",
    "         |-- solar_electricity: double (nullable = true)\n",
    "         |-- wind_electricity: double (nullable = true)\n",
    "         |-- energy_per_gdp: double (nullable = true)\n",
    "         |-- energy_per_capita: double (nullable = true)\n",
    "         |-- fossil_cons_change_pct: double (nullable = true)\n",
    "         |-- fossil_share_energy: double (nullable = true)\n",
    "         |-- fossil_cons_change_twh: double (nullable = true)\n",
    "         |-- fossil_fuel_consumption: double (nullable = true)\n",
    "         |-- fossil_energy_per_capita: double (nullable = true)\n",
    "         |-- fossil_cons_per_capita: double (nullable = true)\n",
    "         |-- fossil_share_elec: double (nullable = true)\n",
    "         |-- gas_share_elec: double (nullable = true)\n",
    "         |-- gas_cons_change_pct: double (nullable = true)\n",
    "         |-- gas_share_energy: double (nullable = true)\n",
    "         |-- gas_cons_change_twh: double (nullable = true)\n",
    "         |-- gas_consumption: double (nullable = true)\n",
    "         |-- gas_elec_per_capita: double (nullable = true)\n",
    "         |-- gas_energy_per_capita: double (nullable = true)\n",
    "         |-- gas_production: double (nullable = true)\n",
    "         |-- gas_prod_per_capita: double (nullable = true)\n",
    "         |-- hydro_share_elec: double (nullable = true)\n",
    "         |-- hydro_cons_change_pct: double (nullable = true)\n",
    "         |-- hydro_share_energy: double (nullable = true)\n",
    "         |-- hydro_cons_change_twh: double (nullable = true)\n",
    "         |-- hydro_consumption: double (nullable = true)\n",
    "         |-- hydro_elec_per_capita: double (nullable = true)\n",
    "         |-- hydro_energy_per_capita: double (nullable = true)\n",
    "         |-- low_carbon_share_elec: double (nullable = true)\n",
    "         |-- low_carbon_electricity: double (nullable = true)\n",
    "         |-- low_carbon_elec_per_capita: double (nullable = true)\n",
    "         |-- low_carbon_cons_change_pct: double (nullable = true)\n",
    "         |-- low_carbon_share_energy: double (nullable = true)\n",
    "         |-- low_carbon_cons_change_twh: double (nullable = true)\n",
    "         |-- low_carbon_consumption: double (nullable = true)\n",
    "         |-- low_carbon_energy_per_capita: double (nullable = true)\n",
    "         |-- nuclear_share_elec: double (nullable = true)\n",
    "         |-- nuclear_cons_change_pct: double (nullable = true)\n",
    "         |-- nuclear_share_energy: double (nullable = true)\n",
    "         |-- nuclear_cons_change_twh: double (nullable = true)\n",
    "         |-- nuclear_consumption: double (nullable = true)\n",
    "         |-- nuclear_elec_per_capita: double (nullable = true)\n",
    "         |-- nuclear_energy_per_capita: double (nullable = true)\n",
    "         |-- oil_share_elec: double (nullable = true)\n",
    "         |-- oil_cons_change_pct: double (nullable = true)\n",
    "         |-- oil_share_energy: double (nullable = true)\n",
    "         |-- oil_cons_change_twh: double (nullable = true)\n",
    "         |-- oil_consumption: double (nullable = true)\n",
    "         |-- oil_elec_per_capita: double (nullable = true)\n",
    "         |-- oil_energy_per_capita: double (nullable = true)\n",
    "         |-- oil_production: double (nullable = true)\n",
    "         |-- oil_prod_per_capita: double (nullable = true)\n",
    "         |-- other_renewables_elec_per_capita: double (nullable = true)\n",
    "         |-- other_renewables_share_elec: double (nullable = true)\n",
    "         |-- other_renewables_cons_change_pct: double (nullable = true)\n",
    "         |-- other_renewables_share_energy: double (nullable = true)\n",
    "         |-- other_renewables_cons_change_twh: double (nullable = true)\n",
    "         |-- other_renewable_consumption: double (nullable = true)\n",
    "         |-- other_renewables_energy_per_capita: double (nullable = true)\n",
    "         |-- per_capita_electricity: double (nullable = true)\n",
    "         |-- population: integer (nullable = true)\n",
    "         |-- primary_energy_consumption: double (nullable = true)\n",
    "         |-- renewables_elec_per_capita: double (nullable = true)\n",
    "         |-- renewables_share_elec: double (nullable = true)\n",
    "         |-- renewables_cons_change_pct: double (nullable = true)\n",
    "         |-- renewables_share_energy: double (nullable = true)\n",
    "         |-- renewables_cons_change_twh: double (nullable = true)\n",
    "         |-- renewables_consumption: double (nullable = true)\n",
    "         |-- renewables_energy_per_capita: double (nullable = true)\n",
    "         |-- solar_share_elec: double (nullable = true)\n",
    "         |-- solar_cons_change_pct: double (nullable = true)\n",
    "         |-- solar_share_energy: double (nullable = true)\n",
    "         |-- solar_cons_change_twh: double (nullable = true)\n",
    "         |-- solar_consumption: double (nullable = true)\n",
    "         |-- solar_elec_per_capita: double (nullable = true)\n",
    "         |-- solar_energy_per_capita: double (nullable = true)\n",
    "         |-- gdp: double (nullable = true)\n",
    "         |-- wind_share_elec: double (nullable = true)\n",
    "         |-- wind_cons_change_pct: double (nullable = true)\n",
    "         |-- wind_share_energy: double (nullable = true)\n",
    "         |-- wind_cons_change_twh: double (nullable = true)\n",
    "         |-- wind_consumption: double (nullable = true)\n",
    "         |-- wind_elec_per_capita: double (nullable = true)\n",
    "         |-- wind_energy_per_capita: double (nullable = true)\n",
    "- The description for all columns can be found here: https://www.kaggle.com/datasets/pralabhpoudel/world-energy-consumption\n",
    "- The dataset starts in: 1900 and ends in: 2020\n",
    "- There are 242 different countries in the dataset\n",
    "- The dataset has 17432 rows\n",
    "\n",
    "\n",
    "#### df_co2:\n",
    "- df_co2 is one of the dimensional datasets\n",
    "- C02 Emissions per Country from fossil-fuels annually since 1751 till 2014\n",
    "- The CO2 data includes the following columns:\n",
    "         |-- year: integer (nullable = true)\n",
    "         |-- country: string (nullable = true)\n",
    "         |-- total: long (nullable = true)\n",
    "         |-- solid_fuel: long (nullable = true)\n",
    "         |-- liquid_fuel: long (nullable = true)\n",
    "         |-- gas_fuel: long (nullable = true)\n",
    "         |-- cement: long (nullable = true)\n",
    "         |-- gas_flaring: long (nullable = true)\n",
    "         |-- per_capita: double (nullable = true)\n",
    "         |-- bunker_fuels_not_in_total: long (nullable = true)\n",
    "- The dataset starts in: 1751 and ends in: 2014\n",
    "- There are 256 different countries in the dataset\n",
    "- The dataset has 17232 rows\n",
    "\n",
    "#### df_pop:\n",
    "- df_pop is one of the dimensional datasets\n",
    "- This datast includes the population data per city\n",
    "- Columns:\n",
    "         |-- country_or_area: string (nullable = true)\n",
    "         |-- year: integer (nullable = true)\n",
    "         |-- sex: string (nullable = true)\n",
    "         |-- city: string (nullable = true)\n",
    "         |-- city_type: string (nullable = true)\n",
    "         |-- reliability: string (nullable = true)\n",
    "         |-- value: integer (nullable = true)\n",
    "- The dataset starts on: 1970 and ends on: 2014 \n",
    "- There are 163 different countries or areas in the dataset\n",
    "- The dataset has 28364 rows\n",
    "\n",
    "#### df_HDI:\n",
    "- df_HDI is one of the dimensional datasets\n",
    "- The Human Development Index (HDI) is an index that measures key dimensions of human development. The three key dimensions are:\n",
    "        - A long and healthy life – measured by life expectancy\n",
    "        - Access to education – measured by expected years of schooling of children at school-entry age and mean years\n",
    "        of schooling of the adult population\n",
    "        - And a decent standard of living – measured by Gross National Income per capita adjusted for the price level of \n",
    "        the country\n",
    "- Columns:\n",
    "         |-- iso3: string (nullable = true)\n",
    "         |-- country: string (nullable = true)\n",
    "         |-- hdicode: string (nullable = true)\n",
    "         |-- year: integer (nullable = true)\n",
    "         |-- hdi_value: double (nullable = true)\n",
    "- The dataset starts on: 1990 and ends on: 2021 \n",
    "- There are 191 different countries in the dataset\n",
    "- The dataset has 6112 rows"
   ]
  },
  {
   "cell_type": "code",
   "execution_count": 45,
   "metadata": {
    "editable": true
   },
   "outputs": [
    {
     "data": {
      "image/jpeg": "[encoded data removed]",
      "text/plain": [
       "<IPython.core.display.Image object>"
      ]
     },
     "execution_count": 45,
     "metadata": {},
     "output_type": "execute_result"
    }
   ],
   "source": [
    "from IPython.display import Image\n",
    "Image(filename='pictures/Data Schema.jpg')"
   ]
  },
  {
   "cell_type": "markdown",
   "metadata": {
    "editable": true
   },
   "source": [
    "## Step 4: ETL to Model the Data\n",
    "\n",
    "In the following we will run some data wrangling steps to provide the data model as shown above. The steps neccessary were explored in the Exploration.ipynb notebook and described in detail there."
   ]
  },
  {
   "cell_type": "code",
   "execution_count": 2,
   "metadata": {
    "editable": true
   },
   "outputs": [],
   "source": [
    "#!pip install datapackage"
   ]
  },
  {
   "cell_type": "code",
   "execution_count": 3,
   "metadata": {
    "editable": true
   },
   "outputs": [],
   "source": [
    "#importing packages\n",
    "import os\n",
    "import configparser\n",
    "import pandas as pd\n",
    "import datapackage\n",
    "from pyspark.sql import SparkSession\n",
    "from pyspark.sql.functions import col, countDistinct, to_date, year, month, isnan, when, count, array, lit\n",
    "from pyspark.sql.types import DoubleType, IntegerType\n",
    "import re\n",
    "import pyspark.sql.functions as F"
   ]
  },
  {
   "cell_type": "code",
   "execution_count": 4,
   "metadata": {
    "editable": true
   },
   "outputs": [],
   "source": [
    "config = configparser.ConfigParser()\n",
    "config.read('config/dl.cfg')\n",
    "\n",
    "os.environ['AWS_ACCESS_KEY_ID']=config['AWS']['AWS_ACCESS_KEY_ID']\n",
    "os.environ['AWS_SECRET_ACCESS_KEY']=config['AWS']['AWS_SECRET_ACCESS_KEY']"
   ]
  },
  {
   "cell_type": "code",
   "execution_count": 5,
   "metadata": {
    "editable": true
   },
   "outputs": [],
   "source": [
    "def create_spark_session():\n",
    "    spark = SparkSession \\\n",
    "        .builder \\\n",
    "        .config(\"spark.jars.packages\", \"org.apache.hadoop:hadoop-aws:2.7.0\") \\\n",
    "        .getOrCreate()\n",
    "    return spark"
   ]
  },
  {
   "cell_type": "code",
   "execution_count": 6,
   "metadata": {
    "editable": true
   },
   "outputs": [],
   "source": [
    "spark = create_spark_session()"
   ]
  },
  {
   "cell_type": "code",
   "execution_count": 7,
   "metadata": {
    "editable": true
   },
   "outputs": [],
   "source": [
    "def loading_data():\n",
    "    '''\n",
    "    This function loads all the data neccessary for this project into dataframes\n",
    "    \n",
    "    output: df_temp, df_energy, df_co2, df_pop, df_HDI - pyspark dataframes for each dataset\n",
    "    \n",
    "    '''\n",
    "    #https://www.kaggle.com/datasets/berkeleyearth/climate-change-earth-surface-temperature-data\n",
    "    path = \"data/GlobalLandTemperaturesByCity.csv\"\n",
    "    df_temp = spark.read.csv(path, header = 'true')\n",
    "    \n",
    "    #https://www.kaggle.com/datasets/pralabhpoudel/world-energy-consumption\n",
    "    path = \"data/World Energy Consumption.csv\"\n",
    "    df_energy = spark.read.csv(path, header = 'true')\n",
    "    \n",
    "    # Co2 emissions from fossil fuels since 1751 by nation\n",
    "    # https://datahub.io/core/co2-fossil-by-nation#pandas\n",
    "    # to load Data Package into storage\n",
    "    data_url = 'https://datahub.io/core/co2-fossil-by-nation/datapackage.json'\n",
    "    package = datapackage.Package(data_url)\n",
    "    # to load only tabular data\n",
    "    resources = package.resources\n",
    "    for resource in resources:\n",
    "        if resource.tabular:\n",
    "            pd_co2 = pd.read_csv(resource.descriptor['path'])\n",
    "    df_co2 = spark.createDataFrame(pd_co2)\n",
    "    \n",
    "    # Population per city (separated in male and female)\n",
    "    # to load Data Package into storage\n",
    "    data_url = 'https://datahub.io/core/population-city/datapackage.json'\n",
    "    package = datapackage.Package(data_url)\n",
    "    # to load only tabular data\n",
    "    resources = package.resources\n",
    "    for resource in resources:\n",
    "        if resource.tabular:\n",
    "            pd_pop = pd.read_csv(resource.descriptor['path'])\n",
    "            pd_pop.to_csv('data/population-city.csv', index=False)\n",
    "    df_pop = spark.read.csv('data/population-city.csv', header = 'true')\n",
    "    \n",
    "    #https://hdr.undp.org/data-center/documentation-and-downloads\n",
    "    #HDI per country (and other indices)\n",
    "    df_HDI=spark.read.csv('data/HDR21-22_Composite_indices_complete_time_series.csv', header = True)\n",
    "    \n",
    "    return df_temp, df_energy, df_co2, df_pop, df_HDI"
   ]
  },
  {
   "cell_type": "code",
   "execution_count": 8,
   "metadata": {
    "editable": true
   },
   "outputs": [],
   "source": [
    "def col_names_lower(df):\n",
    "    '''\n",
    "    function takes df and returns it with its column names changed to lower case\n",
    "    input: df - pyspark dataframe\n",
    "    output: df - pyspark dataframe\n",
    "    '''\n",
    "    for col in df.columns:\n",
    "        df = df.withColumnRenamed(col, col.lower())\n",
    "    return df"
   ]
  },
  {
   "cell_type": "code",
   "execution_count": 25,
   "metadata": {
    "editable": true
   },
   "outputs": [],
   "source": [
    "def clean_temp(df_temp):\n",
    "    '''\n",
    "    function cleans the dataframe according to the insights from the exploration notebook\n",
    "    input: df_temp - pyspark dataframe\n",
    "    output: df_temp - pyspark dataframe (input but cleaned)\n",
    "    '''\n",
    "    #Drop columns with NaN, null and empty values in Country and City column\n",
    "    df_temp = df_temp.filter((df_temp.Country != 'NaN') | (df_temp.Country != '') | (df_temp.Country.isNotNull()))\n",
    "    df_temp = df_temp.filter((df_temp.City != 'NaN') | (df_temp.City != '') | (df_temp.City.isNotNull()))\n",
    "    \n",
    "    #Changing all country (or city) columns to lower letters except from the first one (e.g. Germany)\n",
    "    df_temp = df_temp.withColumn(\"country\", F.initcap(F.col('country')))\n",
    "    df_temp = df_temp.withColumn(\"city\", F.initcap(F.col('city')))\n",
    "    \n",
    "    #Changing Datatypes\n",
    "    df_temp = df_temp.withColumn(\"AverageTemperature\", df_temp.AverageTemperature.cast(DoubleType()))\n",
    "    df_temp = df_temp.withColumn(\"AverageTemperatureUncertainty\", df_temp.AverageTemperatureUncertainty.cast(DoubleType()))\n",
    "    df_temp = df_temp.withColumn(\"dt\", to_date(col(\"dt\"),\"yyyy-MM-dd\"))\n",
    "    \n",
    "    #Adding columns for to join with dimensional tables later\n",
    "    df_temp = df_temp.withColumn(\"year\", year(\"dt\"))\n",
    "    df_temp = df_temp.withColumn(\"month\", month(\"dt\"))\n",
    "    \n",
    "    #setting columns to lower letter to follow naming conventions\n",
    "    df_temp = col_names_lower(df_temp)\n",
    "    \n",
    "    return df_temp"
   ]
  },
  {
   "cell_type": "code",
   "execution_count": 26,
   "metadata": {
    "editable": true
   },
   "outputs": [],
   "source": [
    "def clean_energy(df_energy):\n",
    "    '''\n",
    "    function cleans the dataframe according to the insights from the exploration notebook\n",
    "    input: df_energy - pyspark dataframe\n",
    "    output: df_energy - pyspark dataframe (input but cleaned)\n",
    "    '''\n",
    "    #Drop columns with NaN, null and empty values in iso_code column\n",
    "    df_energy = df_energy.filter((df_energy.iso_code != 'NaN') | (df_energy.iso_code != '') | (df_energy.iso_code.isNotNull()))\n",
    "    \n",
    "    #Changing all country (or city) columns to lower letters except from the first one (e.g. Germany)\n",
    "    df_energy = df_energy.withColumn(\"country\", F.initcap(F.col('country')))\n",
    "    \n",
    "    #Changing Datatypes\n",
    "    df_energy = df_energy.withColumn(\"population\", df_energy.population.cast(IntegerType()))\n",
    "    df_energy = df_energy.withColumn(\"gdp\", df_energy.gdp.cast(DoubleType()))\n",
    "    df_energy = df_energy.withColumn(\"year\", df_energy.year.cast(IntegerType()))\n",
    "    \n",
    "    #setting columns to lower letter to follow naming conventions\n",
    "    df_energy = col_names_lower(df_energy)\n",
    "    \n",
    "    #changing column types to double\n",
    "    cols = [c for c in df_energy.columns if c not in ['iso_code', 'country', 'year', 'gdp', 'population']]\n",
    "    for col in cols:\n",
    "       df_energy = df_energy.withColumn(col, df_energy[col].cast(DoubleType())) \n",
    "    \n",
    "    return df_energy"
   ]
  },
  {
   "cell_type": "code",
   "execution_count": 27,
   "metadata": {
    "editable": true
   },
   "outputs": [],
   "source": [
    "def clean_co2(df_co2):\n",
    "    '''\n",
    "    function cleans the dataframe according to the insights from the exploration notebook\n",
    "    input: df_co2 - pyspark dataframe\n",
    "    output: df_co2 - pyspark dataframe (input but cleaned)\n",
    "    '''\n",
    "    #setting columns to lower letter to follow naming conventions\n",
    "    df_co2 = col_names_lower(df_co2)\n",
    "    \n",
    "    #Changing all country (or city) columns to lower letters except from the first one (e.g. Germany)\n",
    "    df_co2 = df_co2.withColumn(\"country\", F.initcap(F.col('country')))\n",
    "    \n",
    "    #Changing Datatypes\n",
    "    df_co2 = df_co2.withColumn(\"year\", df_co2.year.cast(IntegerType()))\n",
    "    \n",
    "    #renaming columns to have no spaces and brackets (as S3 naming conventions require)\n",
    "    cols = [c for c in df_co2.columns]\n",
    "    for col in cols:\n",
    "        df_co2 = df_co2.withColumnRenamed(col, re.sub(\"[()\\[\\]{}]\", \"\", col))\n",
    "    \n",
    "    cols = [c for c in df_co2.columns]\n",
    "    for col in cols:\n",
    "        df_co2 = df_co2.withColumnRenamed(col, re.sub(r\" \", \"_\", col))\n",
    "\n",
    "    return df_co2"
   ]
  },
  {
   "cell_type": "code",
   "execution_count": 33,
   "metadata": {
    "editable": true
   },
   "outputs": [],
   "source": [
    "def clean_pop(df_pop):\n",
    "    '''\n",
    "    function cleans the dataframe according to the insights from the exploration notebook\n",
    "    input: df_pop - pyspark dataframe\n",
    "    output: df_pop - pyspark dataframe (input but cleaned)\n",
    "    '''\n",
    "    #choosing only the columns that are of interest\n",
    "    df_pop = df_pop[['Country or Area', 'Year', 'Sex', 'City', 'City type', 'Reliability', 'Value']]\n",
    "    \n",
    "    #Drop columns with NaN, null and empty values in Year and Sex column\n",
    "    df_pop = df_pop.filter((df_pop.Year != 'NaN') | (df_pop.Year != '') | (df_pop.Year.isNotNull()))\n",
    "    df_pop = df_pop.filter((df_pop.Sex != 'NaN') | (df_pop.Sex != '') | (df_pop.Sex.isNotNull()))\n",
    "    \n",
    "    #Changing all country (or city) columns to lower letters except from the first one (e.g. Germany)\n",
    "    df_pop = df_pop.withColumn(\"country or area\", F.initcap(F.col('Country or Area')))\n",
    "    df_pop = df_pop.withColumn(\"city\", F.initcap(F.col('City')))\n",
    "    \n",
    "    #Filter out a footnote entry in the Year column\n",
    "    df_pop = df_pop.filter(df_pop.Year != 'Locations are generally based on Statistical Divisions (unless otherwise mentioned) with City')\n",
    "    \n",
    "    #setting columns to lower letter to follow naming conventions\n",
    "    df_pop = col_names_lower(df_pop)\n",
    "    \n",
    "    #Changing Datatypes\n",
    "    df_pop = df_pop.withColumn(\"year\", df_pop.year.cast(IntegerType()))\n",
    "    df_pop = df_pop.withColumn(\"value\", df_pop.value.cast(IntegerType()))\n",
    "    \n",
    "    #renaming columns to have no spaces (as S3 naming conventions require)\n",
    "    cols = [c for c in df_pop.columns if ' ' in c]\n",
    "    for col in cols:\n",
    "        df_pop = df_pop.withColumnRenamed(col, re.sub(r\" \", \"_\", col))\n",
    "    \n",
    "    return df_pop"
   ]
  },
  {
   "cell_type": "code",
   "execution_count": 34,
   "metadata": {
    "editable": true
   },
   "outputs": [],
   "source": [
    "def transform_HDI(df_HDI):\n",
    "    '''\n",
    "    function transformes the df_HDI into a format that displays each year as a row instead of a column.\n",
    "    the purpose it to be able to join the data with other datasets more easily and efficiently\n",
    "    input: df_HDI - pyspark dataframe\n",
    "    output: df_HDI - pyspark dataframe (transformed input)\n",
    "    '''    \n",
    "    #rename columns to process further\n",
    "    cols = [c for c in df_HDI.columns if 'hdi_' in c]\n",
    "    for col in cols:\n",
    "        df_HDI = df_HDI.withColumnRenamed(col, re.sub(r\"hdi_\", \"\", col))\n",
    "        \n",
    "    selected_cols = [c for c in df_HDI.columns if ('19' in c or '20' in c)]\n",
    "    #Solution inspired from here: https://stackoverflow.com/questions/55378047/pyspark-dataframe-melt-columns-into-rows\n",
    "    df=df_HDI\n",
    "    # Annotate each column with your custom label per row. ie. v -> ['label', v]\n",
    "    for col in selected_cols:\n",
    "        label = str('label_' + col)\n",
    "        df = df.withColumn(label, F.array(lit(col), F.col(col)))\n",
    "\n",
    "    # Create a new column which combines the labeled values in a single column\n",
    "    df = df.withColumn('labels', F.array(df.colRegex('`label_.*`')))\n",
    "\n",
    "    # Split into individual rows\n",
    "    df = df.withColumn('labels', F.explode('labels'))\n",
    "\n",
    "    # Split the labels column into year and hdi_value colum\n",
    "    df = df.withColumn('year', F.col('labels')[0])\n",
    "    df = df.withColumn('hdi_value', F.col('labels')[1])\n",
    "\n",
    "    # Select only the relevant columns:\n",
    "    df_HDI_trans = df.select('iso3', 'country', 'hdicode', 'year', 'hdi_value')\n",
    "    df_HDI = df_HDI_trans\n",
    "    return df_HDI"
   ]
  },
  {
   "cell_type": "code",
   "execution_count": 35,
   "metadata": {
    "editable": true
   },
   "outputs": [],
   "source": [
    "def clean_HDI(df_HDI):\n",
    "    '''\n",
    "    function cleans and transforms the dataframe according to the insights from the exploration notebook\n",
    "    input: df_HDI - pyspark dataframe\n",
    "    output: df_HDI - pyspark dataframe (input but cleaned)\n",
    "    '''\n",
    "    #Select only the relevant columns\n",
    "    df_HDI = df_HDI.select('iso3', 'country', 'hdicode', df_HDI.colRegex('`hdi_1.*`'), df_HDI.colRegex('`hdi_2.*`'))\n",
    "    \n",
    "    #Changing all country (or city) columns to lower letters except from the first one (e.g. Germany)\n",
    "    df_HDI = df_HDI.withColumn(\"country\", F.initcap(F.col('country')))\n",
    "    \n",
    "    #Drop columns with null values hdicode column\n",
    "    df_HDI = df_HDI.filter(df_HDI.hdicode.isNotNull())\n",
    "    \n",
    "    #Transform the dataset to allow more efficient and easy querying/joins\n",
    "    df_HDI = transform_HDI(df_HDI)\n",
    "    \n",
    "    #Changing Datatypes\n",
    "    df_HDI = df_HDI.withColumn(\"year\", df_HDI.year.cast(IntegerType()))\n",
    "    df_HDI = df_HDI.withColumn(\"hdi_value\", df_HDI.hdi_value.cast(DoubleType()))\n",
    "    \n",
    "    return df_HDI"
   ]
  },
  {
   "cell_type": "code",
   "execution_count": 36,
   "metadata": {
    "editable": true
   },
   "outputs": [],
   "source": [
    "df_temp, df_energy, df_co2, df_pop, df_HDI = loading_data()"
   ]
  },
  {
   "cell_type": "code",
   "execution_count": 37,
   "metadata": {
    "editable": true
   },
   "outputs": [],
   "source": [
    "df_temp = clean_temp(df_temp)\n",
    "df_energy = clean_energy(df_energy)\n",
    "df_co2 = clean_co2(df_co2)\n",
    "df_pop = clean_pop(df_pop)\n",
    "df_HDI = clean_HDI(df_HDI)"
   ]
  },
  {
   "cell_type": "code",
   "execution_count": 38,
   "metadata": {
    "editable": true
   },
   "outputs": [],
   "source": [
    "def print_overview_df(df_temp=df_temp, df_energy=df_energy, df_co2=df_co2, df_pop=df_pop, df_HDI=df_HDI):\n",
    "    '''\n",
    "    function prints each dataset - the Schema and 2 first rows to get an overview.\n",
    "    '''\n",
    "    name_list = ['df_temp', 'df_energy' , 'df_co2', 'df_pop', 'df_HDI']\n",
    "    name_index = 0\n",
    "    for df in [df_temp, df_energy, df_co2, df_pop, df_HDI]:\n",
    "        pandas_df = df.toPandas()\n",
    "        print(\"Overview of the dataset: \" + name_list[name_index])\n",
    "        name_index = name_index + 1\n",
    "        df.printSchema()\n",
    "        print(pandas_df.head(2))"
   ]
  },
  {
   "cell_type": "code",
   "execution_count": 39,
   "metadata": {
    "editable": true
   },
   "outputs": [
    {
     "name": "stdout",
     "output_type": "stream",
     "text": [
      "Overview of the dataset: df_temp\n",
      "root\n",
      " |-- dt: date (nullable = true)\n",
      " |-- averagetemperature: double (nullable = true)\n",
      " |-- averagetemperatureuncertainty: double (nullable = true)\n",
      " |-- city: string (nullable = true)\n",
      " |-- country: string (nullable = true)\n",
      " |-- latitude: string (nullable = true)\n",
      " |-- longitude: string (nullable = true)\n",
      " |-- year: integer (nullable = true)\n",
      " |-- month: integer (nullable = true)\n",
      "\n",
      "           dt  averagetemperature  averagetemperatureuncertainty   city  \\\n",
      "0  1743-11-01               6.068                          1.737  Århus   \n",
      "1  1743-12-01                 NaN                            NaN  Århus   \n",
      "\n",
      "   country latitude longitude  year  month  \n",
      "0  Denmark   57.05N    10.33E  1743     11  \n",
      "1  Denmark   57.05N    10.33E  1743     12  \n",
      "Overview of the dataset: df_energy\n",
      "root\n",
      " |-- iso_code: string (nullable = true)\n",
      " |-- country: string (nullable = true)\n",
      " |-- year: integer (nullable = true)\n",
      " |-- coal_prod_change_pct: double (nullable = true)\n",
      " |-- coal_prod_change_twh: double (nullable = true)\n",
      " |-- gas_prod_change_pct: double (nullable = true)\n",
      " |-- gas_prod_change_twh: double (nullable = true)\n",
      " |-- oil_prod_change_pct: double (nullable = true)\n",
      " |-- oil_prod_change_twh: double (nullable = true)\n",
      " |-- energy_cons_change_pct: double (nullable = true)\n",
      " |-- energy_cons_change_twh: double (nullable = true)\n",
      " |-- biofuel_share_elec: double (nullable = true)\n",
      " |-- biofuel_elec_per_capita: double (nullable = true)\n",
      " |-- biofuel_cons_change_pct: double (nullable = true)\n",
      " |-- biofuel_share_energy: double (nullable = true)\n",
      " |-- biofuel_cons_change_twh: double (nullable = true)\n",
      " |-- biofuel_consumption: double (nullable = true)\n",
      " |-- biofuel_cons_per_capita: double (nullable = true)\n",
      " |-- carbon_intensity_elec: double (nullable = true)\n",
      " |-- coal_share_elec: double (nullable = true)\n",
      " |-- coal_cons_change_pct: double (nullable = true)\n",
      " |-- coal_share_energy: double (nullable = true)\n",
      " |-- coal_cons_change_twh: double (nullable = true)\n",
      " |-- coal_consumption: double (nullable = true)\n",
      " |-- coal_elec_per_capita: double (nullable = true)\n",
      " |-- coal_cons_per_capita: double (nullable = true)\n",
      " |-- coal_production: double (nullable = true)\n",
      " |-- coal_prod_per_capita: double (nullable = true)\n",
      " |-- electricity_generation: double (nullable = true)\n",
      " |-- biofuel_electricity: double (nullable = true)\n",
      " |-- coal_electricity: double (nullable = true)\n",
      " |-- fossil_electricity: double (nullable = true)\n",
      " |-- gas_electricity: double (nullable = true)\n",
      " |-- hydro_electricity: double (nullable = true)\n",
      " |-- nuclear_electricity: double (nullable = true)\n",
      " |-- oil_electricity: double (nullable = true)\n",
      " |-- other_renewable_electricity: double (nullable = true)\n",
      " |-- other_renewable_exc_biofuel_electricity: double (nullable = true)\n",
      " |-- renewables_electricity: double (nullable = true)\n",
      " |-- solar_electricity: double (nullable = true)\n",
      " |-- wind_electricity: double (nullable = true)\n",
      " |-- energy_per_gdp: double (nullable = true)\n",
      " |-- energy_per_capita: double (nullable = true)\n",
      " |-- fossil_cons_change_pct: double (nullable = true)\n",
      " |-- fossil_share_energy: double (nullable = true)\n",
      " |-- fossil_cons_change_twh: double (nullable = true)\n",
      " |-- fossil_fuel_consumption: double (nullable = true)\n",
      " |-- fossil_energy_per_capita: double (nullable = true)\n",
      " |-- fossil_cons_per_capita: double (nullable = true)\n",
      " |-- fossil_share_elec: double (nullable = true)\n",
      " |-- gas_share_elec: double (nullable = true)\n",
      " |-- gas_cons_change_pct: double (nullable = true)\n",
      " |-- gas_share_energy: double (nullable = true)\n",
      " |-- gas_cons_change_twh: double (nullable = true)\n",
      " |-- gas_consumption: double (nullable = true)\n",
      " |-- gas_elec_per_capita: double (nullable = true)\n",
      " |-- gas_energy_per_capita: double (nullable = true)\n",
      " |-- gas_production: double (nullable = true)\n",
      " |-- gas_prod_per_capita: double (nullable = true)\n",
      " |-- hydro_share_elec: double (nullable = true)\n",
      " |-- hydro_cons_change_pct: double (nullable = true)\n",
      " |-- hydro_share_energy: double (nullable = true)\n",
      " |-- hydro_cons_change_twh: double (nullable = true)\n",
      " |-- hydro_consumption: double (nullable = true)\n",
      " |-- hydro_elec_per_capita: double (nullable = true)\n",
      " |-- hydro_energy_per_capita: double (nullable = true)\n",
      " |-- low_carbon_share_elec: double (nullable = true)\n",
      " |-- low_carbon_electricity: double (nullable = true)\n",
      " |-- low_carbon_elec_per_capita: double (nullable = true)\n",
      " |-- low_carbon_cons_change_pct: double (nullable = true)\n",
      " |-- low_carbon_share_energy: double (nullable = true)\n",
      " |-- low_carbon_cons_change_twh: double (nullable = true)\n",
      " |-- low_carbon_consumption: double (nullable = true)\n",
      " |-- low_carbon_energy_per_capita: double (nullable = true)\n",
      " |-- nuclear_share_elec: double (nullable = true)\n",
      " |-- nuclear_cons_change_pct: double (nullable = true)\n",
      " |-- nuclear_share_energy: double (nullable = true)\n",
      " |-- nuclear_cons_change_twh: double (nullable = true)\n",
      " |-- nuclear_consumption: double (nullable = true)\n",
      " |-- nuclear_elec_per_capita: double (nullable = true)\n",
      " |-- nuclear_energy_per_capita: double (nullable = true)\n",
      " |-- oil_share_elec: double (nullable = true)\n",
      " |-- oil_cons_change_pct: double (nullable = true)\n",
      " |-- oil_share_energy: double (nullable = true)\n",
      " |-- oil_cons_change_twh: double (nullable = true)\n",
      " |-- oil_consumption: double (nullable = true)\n",
      " |-- oil_elec_per_capita: double (nullable = true)\n",
      " |-- oil_energy_per_capita: double (nullable = true)\n",
      " |-- oil_production: double (nullable = true)\n",
      " |-- oil_prod_per_capita: double (nullable = true)\n",
      " |-- other_renewables_elec_per_capita: double (nullable = true)\n",
      " |-- other_renewables_share_elec: double (nullable = true)\n",
      " |-- other_renewables_cons_change_pct: double (nullable = true)\n",
      " |-- other_renewables_share_energy: double (nullable = true)\n",
      " |-- other_renewables_cons_change_twh: double (nullable = true)\n",
      " |-- other_renewable_consumption: double (nullable = true)\n",
      " |-- other_renewables_energy_per_capita: double (nullable = true)\n",
      " |-- per_capita_electricity: double (nullable = true)\n",
      " |-- population: integer (nullable = true)\n",
      " |-- primary_energy_consumption: double (nullable = true)\n",
      " |-- renewables_elec_per_capita: double (nullable = true)\n",
      " |-- renewables_share_elec: double (nullable = true)\n",
      " |-- renewables_cons_change_pct: double (nullable = true)\n",
      " |-- renewables_share_energy: double (nullable = true)\n",
      " |-- renewables_cons_change_twh: double (nullable = true)\n",
      " |-- renewables_consumption: double (nullable = true)\n",
      " |-- renewables_energy_per_capita: double (nullable = true)\n",
      " |-- solar_share_elec: double (nullable = true)\n",
      " |-- solar_cons_change_pct: double (nullable = true)\n",
      " |-- solar_share_energy: double (nullable = true)\n",
      " |-- solar_cons_change_twh: double (nullable = true)\n",
      " |-- solar_consumption: double (nullable = true)\n",
      " |-- solar_elec_per_capita: double (nullable = true)\n",
      " |-- solar_energy_per_capita: double (nullable = true)\n",
      " |-- gdp: double (nullable = true)\n",
      " |-- wind_share_elec: double (nullable = true)\n",
      " |-- wind_cons_change_pct: double (nullable = true)\n",
      " |-- wind_share_energy: double (nullable = true)\n",
      " |-- wind_cons_change_twh: double (nullable = true)\n",
      " |-- wind_consumption: double (nullable = true)\n",
      " |-- wind_elec_per_capita: double (nullable = true)\n",
      " |-- wind_energy_per_capita: double (nullable = true)\n",
      "\n",
      "  iso_code      country  year  coal_prod_change_pct  coal_prod_change_twh  \\\n",
      "0      AFG  Afghanistan  1900                   NaN                   NaN   \n",
      "1      AFG  Afghanistan  1901                   NaN                   0.0   \n",
      "\n",
      "   gas_prod_change_pct  gas_prod_change_twh  oil_prod_change_pct  \\\n",
      "0                  NaN                  NaN                  NaN   \n",
      "1                  NaN                  NaN                  NaN   \n",
      "\n",
      "   oil_prod_change_twh  energy_cons_change_pct           ...            \\\n",
      "0                  NaN                     NaN           ...             \n",
      "1                  NaN                     NaN           ...             \n",
      "\n",
      "   solar_elec_per_capita  solar_energy_per_capita  gdp  wind_share_elec  \\\n",
      "0                    NaN                      NaN  NaN              NaN   \n",
      "1                    NaN                      NaN  NaN              NaN   \n",
      "\n",
      "   wind_cons_change_pct  wind_share_energy  wind_cons_change_twh  \\\n",
      "0                   NaN                NaN                   NaN   \n",
      "1                   NaN                NaN                   NaN   \n",
      "\n",
      "   wind_consumption  wind_elec_per_capita  wind_energy_per_capita  \n",
      "0               NaN                   NaN                     NaN  \n",
      "1               NaN                   NaN                     NaN  \n",
      "\n",
      "[2 rows x 122 columns]\n",
      "Overview of the dataset: df_co2\n",
      "root\n",
      " |-- year: integer (nullable = true)\n",
      " |-- country: string (nullable = true)\n",
      " |-- total: long (nullable = true)\n",
      " |-- solid_fuel: long (nullable = true)\n",
      " |-- liquid_fuel: long (nullable = true)\n",
      " |-- gas_fuel: long (nullable = true)\n",
      " |-- cement: long (nullable = true)\n",
      " |-- gas_flaring: long (nullable = true)\n",
      " |-- per_capita: double (nullable = true)\n",
      " |-- bunker_fuels_not_in_total: long (nullable = true)\n",
      "\n",
      "   year         country  total  solid_fuel  liquid_fuel  gas_fuel  cement  \\\n",
      "0  1751  United Kingdom   2552        2552            0         0       0   \n",
      "1  1752  United Kingdom   2553        2553            0         0       0   \n",
      "\n",
      "   gas_flaring  per_capita  bunker_fuels_not_in_total  \n",
      "0            0         0.0                          0  \n",
      "1            0         0.0                          0  \n",
      "Overview of the dataset: df_pop\n",
      "root\n",
      " |-- country_or_area: string (nullable = true)\n",
      " |-- year: integer (nullable = true)\n",
      " |-- sex: string (nullable = true)\n",
      " |-- city: string (nullable = true)\n",
      " |-- city_type: string (nullable = true)\n",
      " |-- reliability: string (nullable = true)\n",
      " |-- value: integer (nullable = true)\n",
      "\n",
      "  country_or_area  year     sex       city    city_type  \\\n",
      "0   Åland Islands  2013    Male  Mariehamn  City proper   \n",
      "1   Åland Islands  2013  Female  Mariehamn  City proper   \n",
      "\n",
      "              reliability  value  \n",
      "0  Final figure, complete   5445  \n",
      "1  Final figure, complete   5925  \n",
      "Overview of the dataset: df_HDI\n",
      "root\n",
      " |-- iso3: string (nullable = true)\n",
      " |-- country: string (nullable = true)\n",
      " |-- hdicode: string (nullable = true)\n",
      " |-- year: integer (nullable = true)\n",
      " |-- hdi_value: double (nullable = true)\n",
      "\n",
      "  iso3      country hdicode  year  hdi_value\n",
      "0  AFG  Afghanistan     Low  1990      0.273\n",
      "1  AFG  Afghanistan     Low  1991      0.279\n"
     ]
    }
   ],
   "source": [
    "print_overview_df()"
   ]
  },
  {
   "cell_type": "markdown",
   "metadata": {
    "editable": true
   },
   "source": [
    "## Further Steps: Writing the cleaned data to S3\n",
    "The data has now been wrangled and created in its final form. In the following the data will be written to an S3 bucket in the region us-west-2 (same region as the later created redshift cluster - must be in same region!)."
   ]
  },
  {
   "cell_type": "code",
   "execution_count": 41,
   "metadata": {
    "editable": true
   },
   "outputs": [],
   "source": [
    "#Adjust spark logging level settings\n",
    "spark.sparkContext.setLogLevel(\"ERROR\")"
   ]
  },
  {
   "cell_type": "code",
   "execution_count": 42,
   "metadata": {
    "editable": true
   },
   "outputs": [],
   "source": [
    "cleaned_bucket = 's3a://capstone-clean-etl-data/'"
   ]
  },
  {
   "cell_type": "code",
   "execution_count": 43,
   "metadata": {
    "editable": true
   },
   "outputs": [],
   "source": [
    "def write_wrangled_data_s3(spark=spark, cleaned_bucket=cleaned_bucket):\n",
    "    '''\n",
    "    function writes the wrangled data in pyspark dataframes into an s3 bucket to parquet format.\n",
    "    '''\n",
    "    #write wrangled data to parquet file in the wrangled data bucket\n",
    "    #temperature dataset will be partitioned by year\n",
    "    #df_temp.write.partitionBy('year').mode('overwrite').parquet(cleaned_bucket + 'temperature')\n",
    "    df_temp.write.mode('overwrite').parquet(cleaned_bucket + 'temperature')\n",
    "    \n",
    "    #energy dataset will be partitioned by year\n",
    "    df_energy.write.mode('overwrite').parquet(cleaned_bucket + 'energy')\n",
    "    \n",
    "    #temperature dataset will be partitioned by year\n",
    "    df_co2.write.mode('overwrite').parquet(cleaned_bucket + 'co2')\n",
    "    \n",
    "    #temperature dataset will be partitioned by year\n",
    "    df_pop.write.mode('overwrite').parquet(cleaned_bucket + 'population')\n",
    "    \n",
    "    #temperature dataset will be partitioned by year\n",
    "    df_HDI.write.mode('overwrite').parquet(cleaned_bucket + 'HDI')"
   ]
  },
  {
   "cell_type": "code",
   "execution_count": 44,
   "metadata": {
    "editable": true
   },
   "outputs": [],
   "source": [
    "write_wrangled_data_s3()"
   ]
  },
  {
   "cell_type": "markdown",
   "metadata": {
    "editable": true
   },
   "source": [
    "#### Result\n",
    "Now we have the final data in S3. From there we will transfer it to redshift, so the analytics team can query it there and make their analysis. This will be done in the following steps:\n",
    "\n",
    "1. \"create_cluster.py\" - creates a Redshift cluster\n",
    "2. \"create_tables.ipynb\" - creates tables in Redshift, defines the schema and datatypes and copies the data from s3 into the redshift tables\n",
    "3. \"delete_cluster.py\" - will delete the cluster again after the work is finished"
   ]
  },
  {
   "cell_type": "markdown",
   "metadata": {
    "editable": true
   },
   "source": [
    "#### Additional:\n",
    "Additionally one can check with the following code which buckets are available in the account:"
   ]
  },
  {
   "cell_type": "code",
   "execution_count": null,
   "metadata": {
    "editable": true
   },
   "outputs": [],
   "source": [
    "# Code from https://github.com/raul-bermejo/dl_sparkify/blob/main/s3_upload.py from udacity knowledge\n",
    "AWS_ACCESS_KEY_ID = config.get('AWS','AWS_ACCESS_KEY_ID')\n",
    "AWS_SECRET_ACCESS_KEY = config.get('AWS','AWS_SECRET_ACCESS_KEY')\n",
    "\n",
    "import boto3\n",
    "region = 'us-east-1'\n",
    "# Create Python client to use AWS API\n",
    "s3 = boto3.client('s3',\n",
    "                  region_name=region,\n",
    "                  aws_access_key_id=AWS_ACCESS_KEY_ID,\n",
    "                  aws_secret_access_key=AWS_SECRET_ACCESS_KEY)\n",
    "response = s3.list_buckets()\n",
    "bucket_list = [bucket['Name'] for bucket in response[\"Buckets\"]]\n",
    "print(\"Current Buckets:\", bucket_list)"
   ]
  },
  {
   "cell_type": "markdown",
   "metadata": {
    "editable": true
   },
   "source": [
    "#### Additional\n",
    "In the following we are counting the rows per dataset to get the neccessary numbers for the data quality checks in the create_tables notebook"
   ]
  },
  {
   "cell_type": "code",
   "execution_count": 20,
   "metadata": {
    "editable": true
   },
   "outputs": [
    {
     "name": "stdout",
     "output_type": "stream",
     "text": [
      "temperature row_count: 1110435\n",
      "energy_consumption row_count: 15630\n",
      "co2_emissions row_count: 17232\n",
      "population row_count: 28364\n",
      "HDI row_count: 6112\n"
     ]
    }
   ],
   "source": [
    "print(\"temperature row_count: \" + str(df_temp.count()))\n",
    "print(\"energy_consumption row_count: \" + str(df_energy.count()))\n",
    "print(\"co2_emissions row_count: \" + str(df_co2.count()))\n",
    "print(\"population row_count: \" + str(df_pop.count()))\n",
    "print(\"HDI row_count: \" + str(df_HDI.count()))"
   ]
  },
  {
   "cell_type": "code",
   "execution_count": 27,
   "metadata": {
    "editable": true
   },
   "outputs": [],
   "source": [
    "random_dt = df_temp.collect()[2597]['dt']\n",
    "random_temp = df_temp.collect()[2597]['averagetemperature']\n",
    "random_country = df_temp.collect()[2597]['country']"
   ]
  },
  {
   "cell_type": "code",
   "execution_count": 31,
   "metadata": {
    "editable": true
   },
   "outputs": [
    {
     "name": "stdout",
     "output_type": "stream",
     "text": [
      "A random sample at index 2597 of the original data shows the following values: \n",
      "dt = datetime.date(1960, 4, 1)\n",
      "country = Denmark\n",
      "averagetemperature = 5.919\n"
     ]
    }
   ],
   "source": [
    "print(\"A random sample at index 2597 of the original data shows the following values: \")\n",
    "print(\"dt = datetime.date(1960, 4, 1)\")\n",
    "print(\"country = Denmark\")\n",
    "print(\"averagetemperature = 5.919\")"
   ]
  },
  {
   "cell_type": "code",
   "execution_count": 32,
   "metadata": {
    "editable": true
   },
   "outputs": [
    {
     "name": "stdout",
     "output_type": "stream",
     "text": [
      "root\n",
      " |-- iso_code: string (nullable = true)\n",
      " |-- country: string (nullable = true)\n",
      " |-- year: integer (nullable = true)\n",
      " |-- coal_prod_change_pct: double (nullable = true)\n",
      " |-- coal_prod_change_twh: double (nullable = true)\n",
      " |-- gas_prod_change_pct: double (nullable = true)\n",
      " |-- gas_prod_change_twh: double (nullable = true)\n",
      " |-- oil_prod_change_pct: double (nullable = true)\n",
      " |-- oil_prod_change_twh: double (nullable = true)\n",
      " |-- energy_cons_change_pct: double (nullable = true)\n",
      " |-- energy_cons_change_twh: double (nullable = true)\n",
      " |-- biofuel_share_elec: double (nullable = true)\n",
      " |-- biofuel_elec_per_capita: double (nullable = true)\n",
      " |-- biofuel_cons_change_pct: double (nullable = true)\n",
      " |-- biofuel_share_energy: double (nullable = true)\n",
      " |-- biofuel_cons_change_twh: double (nullable = true)\n",
      " |-- biofuel_consumption: double (nullable = true)\n",
      " |-- biofuel_cons_per_capita: double (nullable = true)\n",
      " |-- carbon_intensity_elec: double (nullable = true)\n",
      " |-- coal_share_elec: double (nullable = true)\n",
      " |-- coal_cons_change_pct: double (nullable = true)\n",
      " |-- coal_share_energy: double (nullable = true)\n",
      " |-- coal_cons_change_twh: double (nullable = true)\n",
      " |-- coal_consumption: double (nullable = true)\n",
      " |-- coal_elec_per_capita: double (nullable = true)\n",
      " |-- coal_cons_per_capita: double (nullable = true)\n",
      " |-- coal_production: double (nullable = true)\n",
      " |-- coal_prod_per_capita: double (nullable = true)\n",
      " |-- electricity_generation: double (nullable = true)\n",
      " |-- biofuel_electricity: double (nullable = true)\n",
      " |-- coal_electricity: double (nullable = true)\n",
      " |-- fossil_electricity: double (nullable = true)\n",
      " |-- gas_electricity: double (nullable = true)\n",
      " |-- hydro_electricity: double (nullable = true)\n",
      " |-- nuclear_electricity: double (nullable = true)\n",
      " |-- oil_electricity: double (nullable = true)\n",
      " |-- other_renewable_electricity: double (nullable = true)\n",
      " |-- other_renewable_exc_biofuel_electricity: double (nullable = true)\n",
      " |-- renewables_electricity: double (nullable = true)\n",
      " |-- solar_electricity: double (nullable = true)\n",
      " |-- wind_electricity: double (nullable = true)\n",
      " |-- energy_per_gdp: double (nullable = true)\n",
      " |-- energy_per_capita: double (nullable = true)\n",
      " |-- fossil_cons_change_pct: double (nullable = true)\n",
      " |-- fossil_share_energy: double (nullable = true)\n",
      " |-- fossil_cons_change_twh: double (nullable = true)\n",
      " |-- fossil_fuel_consumption: double (nullable = true)\n",
      " |-- fossil_energy_per_capita: double (nullable = true)\n",
      " |-- fossil_cons_per_capita: double (nullable = true)\n",
      " |-- fossil_share_elec: double (nullable = true)\n",
      " |-- gas_share_elec: double (nullable = true)\n",
      " |-- gas_cons_change_pct: double (nullable = true)\n",
      " |-- gas_share_energy: double (nullable = true)\n",
      " |-- gas_cons_change_twh: double (nullable = true)\n",
      " |-- gas_consumption: double (nullable = true)\n",
      " |-- gas_elec_per_capita: double (nullable = true)\n",
      " |-- gas_energy_per_capita: double (nullable = true)\n",
      " |-- gas_production: double (nullable = true)\n",
      " |-- gas_prod_per_capita: double (nullable = true)\n",
      " |-- hydro_share_elec: double (nullable = true)\n",
      " |-- hydro_cons_change_pct: double (nullable = true)\n",
      " |-- hydro_share_energy: double (nullable = true)\n",
      " |-- hydro_cons_change_twh: double (nullable = true)\n",
      " |-- hydro_consumption: double (nullable = true)\n",
      " |-- hydro_elec_per_capita: double (nullable = true)\n",
      " |-- hydro_energy_per_capita: double (nullable = true)\n",
      " |-- low_carbon_share_elec: double (nullable = true)\n",
      " |-- low_carbon_electricity: double (nullable = true)\n",
      " |-- low_carbon_elec_per_capita: double (nullable = true)\n",
      " |-- low_carbon_cons_change_pct: double (nullable = true)\n",
      " |-- low_carbon_share_energy: double (nullable = true)\n",
      " |-- low_carbon_cons_change_twh: double (nullable = true)\n",
      " |-- low_carbon_consumption: double (nullable = true)\n",
      " |-- low_carbon_energy_per_capita: double (nullable = true)\n",
      " |-- nuclear_share_elec: double (nullable = true)\n",
      " |-- nuclear_cons_change_pct: double (nullable = true)\n",
      " |-- nuclear_share_energy: double (nullable = true)\n",
      " |-- nuclear_cons_change_twh: double (nullable = true)\n",
      " |-- nuclear_consumption: double (nullable = true)\n",
      " |-- nuclear_elec_per_capita: double (nullable = true)\n",
      " |-- nuclear_energy_per_capita: double (nullable = true)\n",
      " |-- oil_share_elec: double (nullable = true)\n",
      " |-- oil_cons_change_pct: double (nullable = true)\n",
      " |-- oil_share_energy: double (nullable = true)\n",
      " |-- oil_cons_change_twh: double (nullable = true)\n",
      " |-- oil_consumption: double (nullable = true)\n",
      " |-- oil_elec_per_capita: double (nullable = true)\n",
      " |-- oil_energy_per_capita: double (nullable = true)\n",
      " |-- oil_production: double (nullable = true)\n",
      " |-- oil_prod_per_capita: double (nullable = true)\n",
      " |-- other_renewables_elec_per_capita: double (nullable = true)\n",
      " |-- other_renewables_share_elec: double (nullable = true)\n",
      " |-- other_renewables_cons_change_pct: double (nullable = true)\n",
      " |-- other_renewables_share_energy: double (nullable = true)\n",
      " |-- other_renewables_cons_change_twh: double (nullable = true)\n",
      " |-- other_renewable_consumption: double (nullable = true)\n",
      " |-- other_renewables_energy_per_capita: double (nullable = true)\n",
      " |-- per_capita_electricity: double (nullable = true)\n",
      " |-- population: integer (nullable = true)\n",
      " |-- primary_energy_consumption: double (nullable = true)\n",
      " |-- renewables_elec_per_capita: double (nullable = true)\n",
      " |-- renewables_share_elec: double (nullable = true)\n",
      " |-- renewables_cons_change_pct: double (nullable = true)\n",
      " |-- renewables_share_energy: double (nullable = true)\n",
      " |-- renewables_cons_change_twh: double (nullable = true)\n",
      " |-- renewables_consumption: double (nullable = true)\n",
      " |-- renewables_energy_per_capita: double (nullable = true)\n",
      " |-- solar_share_elec: double (nullable = true)\n",
      " |-- solar_cons_change_pct: double (nullable = true)\n",
      " |-- solar_share_energy: double (nullable = true)\n",
      " |-- solar_cons_change_twh: double (nullable = true)\n",
      " |-- solar_consumption: double (nullable = true)\n",
      " |-- solar_elec_per_capita: double (nullable = true)\n",
      " |-- solar_energy_per_capita: double (nullable = true)\n",
      " |-- gdp: double (nullable = true)\n",
      " |-- wind_share_elec: double (nullable = true)\n",
      " |-- wind_cons_change_pct: double (nullable = true)\n",
      " |-- wind_share_energy: double (nullable = true)\n",
      " |-- wind_cons_change_twh: double (nullable = true)\n",
      " |-- wind_consumption: double (nullable = true)\n",
      " |-- wind_elec_per_capita: double (nullable = true)\n",
      " |-- wind_energy_per_capita: double (nullable = true)\n",
      "\n"
     ]
    }
   ],
   "source": [
    "df_energy.printSchema()"
   ]
  },
  {
   "cell_type": "code",
   "execution_count": 46,
   "metadata": {
    "editable": true
   },
   "outputs": [],
   "source": [
    "result1=df_energy.filter((df_energy.year == 1953) & (df_energy.country == 'Morocco')).collect()[0]['gas_prod_change_twh']\n",
    "result2=df_energy.filter((df_energy.year == 1953) & (df_energy.country == 'Morocco')).collect()[0]['gas_prod_change_pct']"
   ]
  },
  {
   "cell_type": "code",
   "execution_count": 47,
   "metadata": {
    "editable": true
   },
   "outputs": [
    {
     "data": {
      "text/plain": [
       "0.048"
      ]
     },
     "execution_count": 47,
     "metadata": {},
     "output_type": "execute_result"
    }
   ],
   "source": [
    "result1"
   ]
  },
  {
   "cell_type": "code",
   "execution_count": 48,
   "metadata": {
    "editable": true
   },
   "outputs": [],
   "source": [
    "result2"
   ]
  }
 ],
 "metadata": {
  "kernelspec": {
   "display_name": "Python 3",
   "language": "python",
   "name": "python3"
  },
  "language_info": {
   "codemirror_mode": {
    "name": "ipython",
    "version": 3
   },
   "file_extension": ".py",
   "mimetype": "text/x-python",
   "name": "python",
   "nbconvert_exporter": "python",
   "pygments_lexer": "ipython3",
   "version": "3.6.3"
  }
 },
 "nbformat": 4,
 "nbformat_minor": 4
}
